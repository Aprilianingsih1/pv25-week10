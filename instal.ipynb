{
 "cells": [
  {
   "cell_type": "code",
   "execution_count": 1,
   "metadata": {},
   "outputs": [
    {
     "name": "stdout",
     "output_type": "stream",
     "text": [
      "Collecting pysqlite3\n",
      "  Using cached pysqlite3-0.5.0.tar.gz (40 kB)\n",
      "Building wheels for collected packages: pysqlite3\n",
      "  Building wheel for pysqlite3 (setup.py): started\n",
      "  Building wheel for pysqlite3 (setup.py): finished with status 'error'\n",
      "  Running setup.py clean for pysqlite3\n",
      "Failed to build pysqlite3\n",
      "Installing collected packages: pysqlite3\n",
      "    Running setup.py install for pysqlite3: started\n",
      "    Running setup.py install for pysqlite3: finished with status 'error'\n",
      "Note: you may need to restart the kernel to use updated packages.\n"
     ]
    },
    {
     "name": "stderr",
     "output_type": "stream",
     "text": [
      "  ERROR: Command errored out with exit status 1:\n",
      "   command: 'c:\\Users\\CATURWARGA COMPUTER\\anaconda3\\python.exe' -u -c 'import io, os, sys, setuptools, tokenize; sys.argv[0] = '\"'\"'C:\\\\Users\\\\CATURWARGA COMPUTER\\\\AppData\\\\Local\\\\Temp\\\\pip-install-gq4ptq6m\\\\pysqlite3_20f825b36e7845b9b21f02128b215af9\\\\setup.py'\"'\"'; __file__='\"'\"'C:\\\\Users\\\\CATURWARGA COMPUTER\\\\AppData\\\\Local\\\\Temp\\\\pip-install-gq4ptq6m\\\\pysqlite3_20f825b36e7845b9b21f02128b215af9\\\\setup.py'\"'\"';f = getattr(tokenize, '\"'\"'open'\"'\"', open)(__file__) if os.path.exists(__file__) else io.StringIO('\"'\"'from setuptools import setup; setup()'\"'\"');code = f.read().replace('\"'\"'\\r\\n'\"'\"', '\"'\"'\\n'\"'\"');f.close();exec(compile(code, __file__, '\"'\"'exec'\"'\"'))' bdist_wheel -d 'C:\\Users\\CATURWARGA COMPUTER\\AppData\\Local\\Temp\\pip-wheel-by3ombei'\n",
      "       cwd: C:\\Users\\CATURWARGA COMPUTER\\AppData\\Local\\Temp\\pip-install-gq4ptq6m\\pysqlite3_20f825b36e7845b9b21f02128b215af9\\\n",
      "  Complete output (12 lines):\n",
      "  running bdist_wheel\n",
      "  running build\n",
      "  running build_py\n",
      "  creating build\n",
      "  creating build\\lib.win-amd64-3.9\n",
      "  creating build\\lib.win-amd64-3.9\\pysqlite3\n",
      "  copying pysqlite3\\dbapi2.py -> build\\lib.win-amd64-3.9\\pysqlite3\n",
      "  copying pysqlite3\\__init__.py -> build\\lib.win-amd64-3.9\\pysqlite3\n",
      "  running build_ext\n",
      "  Builds a C extension linking against libsqlite3 library\n",
      "  building 'pysqlite3._sqlite3' extension\n",
      "  error: Microsoft Visual C++ 14.0 or greater is required. Get it with \"Microsoft C++ Build Tools\": https://visualstudio.microsoft.com/visual-cpp-build-tools/\n",
      "  ----------------------------------------\n",
      "  ERROR: Failed building wheel for pysqlite3\n",
      "    ERROR: Command errored out with exit status 1:\n",
      "     command: 'c:\\Users\\CATURWARGA COMPUTER\\anaconda3\\python.exe' -u -c 'import io, os, sys, setuptools, tokenize; sys.argv[0] = '\"'\"'C:\\\\Users\\\\CATURWARGA COMPUTER\\\\AppData\\\\Local\\\\Temp\\\\pip-install-gq4ptq6m\\\\pysqlite3_20f825b36e7845b9b21f02128b215af9\\\\setup.py'\"'\"'; __file__='\"'\"'C:\\\\Users\\\\CATURWARGA COMPUTER\\\\AppData\\\\Local\\\\Temp\\\\pip-install-gq4ptq6m\\\\pysqlite3_20f825b36e7845b9b21f02128b215af9\\\\setup.py'\"'\"';f = getattr(tokenize, '\"'\"'open'\"'\"', open)(__file__) if os.path.exists(__file__) else io.StringIO('\"'\"'from setuptools import setup; setup()'\"'\"');code = f.read().replace('\"'\"'\\r\\n'\"'\"', '\"'\"'\\n'\"'\"');f.close();exec(compile(code, __file__, '\"'\"'exec'\"'\"'))' install --record 'C:\\Users\\CATURWARGA COMPUTER\\AppData\\Local\\Temp\\pip-record-k89mehnl\\install-record.txt' --single-version-externally-managed --compile --install-headers 'c:\\Users\\CATURWARGA COMPUTER\\anaconda3\\Include\\pysqlite3'\n",
      "         cwd: C:\\Users\\CATURWARGA COMPUTER\\AppData\\Local\\Temp\\pip-install-gq4ptq6m\\pysqlite3_20f825b36e7845b9b21f02128b215af9\\\n",
      "    Complete output (12 lines):\n",
      "    running install\n",
      "    running build\n",
      "    running build_py\n",
      "    creating build\n",
      "    creating build\\lib.win-amd64-3.9\n",
      "    creating build\\lib.win-amd64-3.9\\pysqlite3\n",
      "    copying pysqlite3\\dbapi2.py -> build\\lib.win-amd64-3.9\\pysqlite3\n",
      "    copying pysqlite3\\__init__.py -> build\\lib.win-amd64-3.9\\pysqlite3\n",
      "    running build_ext\n",
      "    Builds a C extension linking against libsqlite3 library\n",
      "    building 'pysqlite3._sqlite3' extension\n",
      "    error: Microsoft Visual C++ 14.0 or greater is required. Get it with \"Microsoft C++ Build Tools\": https://visualstudio.microsoft.com/visual-cpp-build-tools/\n",
      "    ----------------------------------------\n",
      "ERROR: Command errored out with exit status 1: 'c:\\Users\\CATURWARGA COMPUTER\\anaconda3\\python.exe' -u -c 'import io, os, sys, setuptools, tokenize; sys.argv[0] = '\"'\"'C:\\\\Users\\\\CATURWARGA COMPUTER\\\\AppData\\\\Local\\\\Temp\\\\pip-install-gq4ptq6m\\\\pysqlite3_20f825b36e7845b9b21f02128b215af9\\\\setup.py'\"'\"'; __file__='\"'\"'C:\\\\Users\\\\CATURWARGA COMPUTER\\\\AppData\\\\Local\\\\Temp\\\\pip-install-gq4ptq6m\\\\pysqlite3_20f825b36e7845b9b21f02128b215af9\\\\setup.py'\"'\"';f = getattr(tokenize, '\"'\"'open'\"'\"', open)(__file__) if os.path.exists(__file__) else io.StringIO('\"'\"'from setuptools import setup; setup()'\"'\"');code = f.read().replace('\"'\"'\\r\\n'\"'\"', '\"'\"'\\n'\"'\"');f.close();exec(compile(code, __file__, '\"'\"'exec'\"'\"'))' install --record 'C:\\Users\\CATURWARGA COMPUTER\\AppData\\Local\\Temp\\pip-record-k89mehnl\\install-record.txt' --single-version-externally-managed --compile --install-headers 'c:\\Users\\CATURWARGA COMPUTER\\anaconda3\\Include\\pysqlite3' Check the logs for full command output.\n"
     ]
    }
   ],
   "source": [
    "pip install pysqlite3\n"
   ]
  }
 ],
 "metadata": {
  "kernelspec": {
   "display_name": "base",
   "language": "python",
   "name": "python3"
  },
  "language_info": {
   "codemirror_mode": {
    "name": "ipython",
    "version": 3
   },
   "file_extension": ".py",
   "mimetype": "text/x-python",
   "name": "python",
   "nbconvert_exporter": "python",
   "pygments_lexer": "ipython3",
   "version": "3.9.7"
  },
  "orig_nbformat": 4
 },
 "nbformat": 4,
 "nbformat_minor": 2
}
